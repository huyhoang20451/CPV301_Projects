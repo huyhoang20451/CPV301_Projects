{
 "cells": [
  {
   "cell_type": "code",
   "execution_count": 1,
   "metadata": {},
   "outputs": [],
   "source": [
    "#Importing the required libraries\n",
    "import cv2\n",
    "import numpy as np\n",
    "import os"
   ]
  },
  {
   "cell_type": "code",
   "execution_count": 2,
   "metadata": {},
   "outputs": [],
   "source": [
    "#Loading the Haar Cascade Classifier for face detection\n",
    "detector = cv2.CascadeClassifier(cv2.data.haarcascades+'haarcascade_frontalface_default.xml')"
   ]
  },
  {
   "cell_type": "code",
   "execution_count": 3,
   "metadata": {},
   "outputs": [
    {
     "name": "stdout",
     "output_type": "stream",
     "text": [
      "0\n"
     ]
    }
   ],
   "source": [
    "#Sau khi giải nén video thành các frame, ta phải cắt các khuôn mặt trong các frame đó\n",
    "id = 2\n",
    "if id == 2:\n",
    "    print(0)\n",
    "    for i in range(1, 4):\n",
    "        for j in range(0, 22):\n",
    "            #Đọc file ảnh\n",
    "            filename = 'Dataset_frame_extract\\\\Data\\\\anh.'+str(i)+'.'+str(j)+'.png'\n",
    "            #Đọc ảnh\n",
    "            frame = cv2.imread(filename)\n",
    "            #Chuyển ảnh sang ảnh xám\n",
    "            gray = cv2.cvtColor(frame, cv2.COLOR_BGR2GRAY)\n",
    "            #Phát hiện khuôn mặt\n",
    "            fa = detector.detectMultiScale(gray, 1.1, 5)\n",
    "            #Vẽ hình chữ nhật quanh khuôn mặt\n",
    "            for (x, y, w, h) in fa:\n",
    "                cv2.rectangle(frame, (x, y), (x+w, y+h), (0, 255, 0), 2)\n",
    "                if not os.path.exists('dataset'):\n",
    "                    os.makedirs('dataset')\n",
    "                #lưu ảnh khuôn mặt\n",
    "                cv2.imwrite('dataset\\\\anh.'+str(i)+'.'+str(j)+'.png', gray[y:y+h, x:x+w])"
   ]
  },
  {
   "cell_type": "code",
   "execution_count": 4,
   "metadata": {},
   "outputs": [],
   "source": [
    "#sau cắt khuôn mặt, setup các thông số để train model\n",
    "data = []\n",
    "label = []\n",
    "for i in range(1, 4):\n",
    "    for j in range(0, 22):\n",
    "        #Đọc ảnh\n",
    "        filename = 'dataset\\\\anh.'+str(i)+'.'+str(j)+'.png'\n",
    "        img = cv2.imread(filename)\n",
    "        #Chuyển ảnh sang ảnh xám\n",
    "        img = cv2.cvtColor(img, cv2.COLOR_BGR2GRAY)\n",
    "        #Resize ảnh về kích thước 64x64\n",
    "        img = cv2.resize(img, (64, 64))\n",
    "        #Thêm ảnh vào data\n",
    "        data.append(img)\n",
    "        #Thêm nhãn vào label\n",
    "        label.append(i-1)\n",
    "#Chuyển data và label thành mảng numpy\n",
    "data_np = np.array(data)\n",
    "label_np = np.array(label)\n",
    "data_np = data_np.reshape(data_np.shape[0], 64, 64, 1)\n",
    "#Chuẩn hóa data - chia cho 255 vì giá trị pixel nằm trong khoảng 0-255\n",
    "X_train = data_np/255\n",
    "from sklearn.preprocessing import LabelBinarizer\n",
    "lb = LabelBinarizer()\n",
    "Y_train = lb.fit_transform(label_np)"
   ]
  },
  {
   "cell_type": "code",
   "execution_count": null,
   "metadata": {},
   "outputs": [],
   "source": []
  }
 ],
 "metadata": {
  "kernelspec": {
   "display_name": "Python 3",
   "language": "python",
   "name": "python3"
  },
  "language_info": {
   "codemirror_mode": {
    "name": "ipython",
    "version": 3
   },
   "file_extension": ".py",
   "mimetype": "text/x-python",
   "name": "python",
   "nbconvert_exporter": "python",
   "pygments_lexer": "ipython3",
   "version": "3.11.8"
  }
 },
 "nbformat": 4,
 "nbformat_minor": 2
}
